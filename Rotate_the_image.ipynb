{
  "nbformat": 4,
  "nbformat_minor": 0,
  "metadata": {
    "colab": {
      "provenance": [],
      "authorship_tag": "ABX9TyOSnqqk+mnCZSe4FfkPGSD1",
      "include_colab_link": true
    },
    "kernelspec": {
      "name": "python3",
      "display_name": "Python 3"
    },
    "language_info": {
      "name": "python"
    }
  },
  "cells": [
    {
      "cell_type": "markdown",
      "metadata": {
        "id": "view-in-github",
        "colab_type": "text"
      },
      "source": [
        "<a href=\"https://colab.research.google.com/github/ydicsey/image-processing/blob/main/Rotate_the_image.ipynb\" target=\"_parent\"><img src=\"https://colab.research.google.com/assets/colab-badge.svg\" alt=\"Open In Colab\"/></a>"
      ]
    },
    {
      "cell_type": "code",
      "execution_count": null,
      "metadata": {
        "id": "vZYHGR4MOy-h"
      },
      "outputs": [],
      "source": [
        "#import the library\n",
        "import cv2 as cv\n",
        "import numpy as np\n",
        "import matplotlib.pyplot as plt\n",
        "\n",
        "# for cos and sin\n",
        "import math"
      ]
    },
    {
      "cell_type": "markdown",
      "source": [
        "Create an image consisting of a white square with a black background"
      ],
      "metadata": {
        "id": "lt2NSp3jQvYS"
      }
    },
    {
      "cell_type": "code",
      "source": [
        "height = 25\n",
        "width = 25"
      ],
      "metadata": {
        "id": "tNZcBblVQ5oD"
      },
      "execution_count": null,
      "outputs": []
    },
    {
      "cell_type": "code",
      "source": [
        "image = np.zeros((height, width, 3), dtype=np.uint8)\n",
        "\n",
        "square_size = 15\n",
        "left = (width - square_size) // 2\n",
        "top = (height - square_size) // 2\n",
        "right = left + square_size\n",
        "bottom = top + square_size\n",
        "white = (255, 255, 255)\n",
        "cv.rectangle(image, (left, top), (right, bottom), white, -1)\n",
        "\n",
        "plt.axis('off')\n",
        "plt.imshow(image)\n",
        "plt.show()"
      ],
      "metadata": {
        "colab": {
          "base_uri": "https://localhost:8080/",
          "height": 406
        },
        "id": "vm9v8GOHQ1yQ",
        "outputId": "5ba3fba2-4d55-4d3f-e584-f2b03edcf599"
      },
      "execution_count": null,
      "outputs": [
        {
          "output_type": "display_data",
          "data": {
            "text/plain": [
              "<Figure size 640x480 with 1 Axes>"
            ],
            "image/png": "[encoded data removed]"
          },
          "metadata": {}
        }
      ]
    },
    {
      "cell_type": "markdown",
      "source": [
        "Rotate the image by 30 degrees"
      ],
      "metadata": {
        "id": "ypXnAm5KRLu_"
      }
    },
    {
      "cell_type": "code",
      "source": [
        "# 設定旋轉的角度\n",
        "theta_in_degree = 30\n",
        "# 轉換成弧度\n",
        "theta_in_radians = math.radians(theta_in_degree)\n",
        "\n",
        "sine = math.sin(theta_in_radians)\n",
        "cosine = math.cos(theta_in_radians)\n",
        "\n",
        "# 計算旋轉後的長寬\n",
        "new_width = int(abs(height * cosine)+abs(width * sine))\n",
        "new_height = int(abs(width * cosine)+abs(height * sine))\n",
        "\n",
        "# 計算圖像中心點\n",
        "center = (width / 2, height / 2)\n",
        "\n",
        "# 計算旋轉後圖像中心點\n",
        "new_center = (new_width / 2, new_height / 2)\n",
        "\n",
        "# 創建旋轉矩陣\n",
        "rotation_matrix = np.array([[cosine, -sine], [sine, cosine]])"
      ],
      "metadata": {
        "id": "lEsWikoFRLOJ"
      },
      "execution_count": null,
      "outputs": []
    },
    {
      "cell_type": "markdown",
      "source": [
        " Use rotation with neighbor interpolation"
      ],
      "metadata": {
        "id": "-GPZKLNfYlN6"
      }
    },
    {
      "cell_type": "code",
      "source": [
        "# 創建新圖像\n",
        "rotated_image = np.zeros((new_height, new_width, 3), dtype=np.uint8)\n",
        "\n",
        "# 計算旋轉後的每個像素的位置和顏色\n",
        "for i in range(new_height):\n",
        "    for j in range(new_width):\n",
        "        ori_x, ori_y = np.dot(rotation_matrix, np.array([j - new_center[0], i - new_center[1]]))\n",
        "\n",
        "        # 使用最近的像素值填充新圖像\n",
        "        ori_x = int(round(ori_x) + center[0])\n",
        "        ori_y = int(round(ori_y) + center[1])\n",
        "        if 0 <= ori_x < width and 0 <= ori_y < height:\n",
        "            rotated_image[i, j] = image[ori_y, ori_x]\n",
        "\n",
        "# 顯示旋轉後的圖像\n",
        "plt.axis('off')\n",
        "plt.imshow(rotated_image)\n",
        "plt.show()\n",
        "rotated_image.shape"
      ],
      "metadata": {
        "colab": {
          "base_uri": "https://localhost:8080/",
          "height": 423
        },
        "id": "EA8YDuCq9yjD",
        "outputId": "dd7b7cc0-d383-4810-effe-9ef0d397711e"
      },
      "execution_count": null,
      "outputs": [
        {
          "output_type": "display_data",
          "data": {
            "text/plain": [
              "<Figure size 640x480 with 1 Axes>"
            ],
            "image/png": "[encoded data removed]"
          },
          "metadata": {}
        },
        {
          "output_type": "execute_result",
          "data": {
            "text/plain": [
              "(34, 34, 3)"
            ]
          },
          "metadata": {},
          "execution_count": 14
        }
      ]
    },
    {
      "cell_type": "markdown",
      "source": [
        "rotation with bilinear interpolation"
      ],
      "metadata": {
        "id": "95Ef5lYvSKbV"
      }
    },
    {
      "cell_type": "code",
      "source": [
        "from scipy.interpolate import RectBivariateSpline\n",
        "\n",
        "# 生成x, y座標\n",
        "y = np.arange(image.shape[0])\n",
        "x = np.arange(image.shape[1])\n",
        "\n",
        "fB = RectBivariateSpline(x, y, image[:,:,0])\n",
        "fG = RectBivariateSpline(x, y, image[:,:,1])\n",
        "fR = RectBivariateSpline(x, y, image[:,:,2])"
      ],
      "metadata": {
        "id": "jfPlDKZhGJzC"
      },
      "execution_count": null,
      "outputs": []
    },
    {
      "cell_type": "code",
      "source": [
        "# 創建新圖像\n",
        "rotated_image_linear = np.zeros((new_height, new_width, 3), dtype=np.uint8)\n",
        "\n",
        "# 計算旋轉後的每個像素的位置和顏色\n",
        "for i in range(new_height):\n",
        "    for j in range(new_width):\n",
        "        ori_x, ori_y = np.dot(rotation_matrix, np.array([j - new_center[0], i - new_center[1]]))\n",
        "\n",
        "        # 使用最近的像素值填充新圖像\n",
        "        ori_x = (round(ori_x) + center[0])\n",
        "        ori_y = (round(ori_y) + center[1])\n",
        "        if 0 <= ori_x < width and 0 <= ori_y < height:\n",
        "            rotated_image_linear[i, j, 0] = fB(ori_x, ori_y)\n",
        "            rotated_image_linear[i, j, 1] = fG(ori_x, ori_y)\n",
        "            rotated_image_linear[i, j, 2] = fR(ori_x, ori_y)\n",
        "\n",
        "# 顯示旋轉後的圖像\n",
        "plt.axis('off')\n",
        "plt.imshow(rotated_image_linear)\n",
        "plt.show()\n",
        "rotated_image_linear.shape"
      ],
      "metadata": {
        "colab": {
          "base_uri": "https://localhost:8080/",
          "height": 423
        },
        "id": "5GsoYFTwIgAS",
        "outputId": "97d30007-fbb3-4f34-b7c6-48335f4972be"
      },
      "execution_count": null,
      "outputs": [
        {
          "output_type": "display_data",
          "data": {
            "text/plain": [
              "<Figure size 640x480 with 1 Axes>"
            ],
            "image/png": "[encoded data removed]"
          },
          "metadata": {}
        },
        {
          "output_type": "execute_result",
          "data": {
            "text/plain": [
              "(34, 34, 3)"
            ]
          },
          "metadata": {},
          "execution_count": 16
        }
      ]
    },
    {
      "cell_type": "code",
      "source": [
        "M = cv.getRotationMatrix2D(center, 30, 1)\n",
        "rotated_image = cv.warpAffine(image, M, (image.shape[1], image.shape[0]), flags=cv.INTER_LINEAR)\n",
        "plt.axis('off')\n",
        "plt.imshow(rotated_image)\n",
        "plt.show()"
      ],
      "metadata": {
        "colab": {
          "base_uri": "https://localhost:8080/",
          "height": 406
        },
        "id": "V2PnRAjgK-tL",
        "outputId": "4de7c7b4-c48a-490e-c66e-8d2803223d0e"
      },
      "execution_count": null,
      "outputs": [
        {
          "output_type": "display_data",
          "data": {
            "text/plain": [
              "<Figure size 640x480 with 1 Axes>"
            ],
            "image/png": "[encoded data removed]"
          },
          "metadata": {}
        }
      ]
    },
    {
      "cell_type": "code",
      "source": [
        "import numpy as np\n",
        "from scipy.interpolate import RectBivariateSpline\n",
        "import cv2\n",
        "\n",
        "# 读入图像\n",
        "# image = cv2.imread('test.jpg')\n",
        "\n",
        "# 设置旋转角度\n",
        "angle = 30\n",
        "\n",
        "# 计算图像中心点坐标和旋转矩阵\n",
        "center = (image.shape[1] // 2, image.shape[0] // 2)\n",
        "M = cv2.getRotationMatrix2D(center, angle, 1)\n",
        "\n",
        "# 将图像旋转到目标角度\n",
        "rotated_image = cv2.warpAffine(image, M, (image.shape[1], image.shape[0]))\n",
        "\n",
        "# 定义插值函数\n",
        "interp_func = RectBivariateSpline(np.arange(rotated_image.shape[0]), np.arange(rotated_image.shape[1]), rotated_image[:,:,0])\n",
        "\n",
        "# 计算插值\n",
        "output = np.zeros_like(rotated_image)\n",
        "for i in range(output.shape[0]):\n",
        "    for j in range(output.shape[1]):\n",
        "        # 对于每个像素位置，计算对应的原图像的位置\n",
        "        x = center[0] + (j - center[0]) * np.cos(np.deg2rad(angle)) + (i - center[1]) * np.sin(np.deg2rad(angle))\n",
        "        y = center[1] - (j - center[0]) * np.sin(np.deg2rad(angle)) + (i - center[1]) * np.cos(np.deg2rad(angle))\n",
        "\n",
        "        # 判断原图像位置是否在图像范围内\n",
        "        if x >= 0 and y >= 0 and x < image.shape[1] - 1 and y < image.shape[0] - 1:\n",
        "            # 对于每个像素位置，使用双线性插值计算像素值\n",
        "            output[i, j, 0] = interp_func(y, x)\n",
        "            output[i, j, 1] = RectBivariateSpline(np.arange(rotated_image.shape[0]), np.arange(rotated_image.shape[1]), rotated_image[:,:,1])(y, x)\n",
        "            output[i, j, 2] = RectBivariateSpline(np.arange(rotated_image.shape[0]), np.arange(rotated_image.shape[1]), rotated_image[:,:,2])(y, x)\n",
        "\n",
        "# 显示结果\n",
        "plt.axis('off')\n",
        "plt.imshow(output)\n",
        "plt.show()\n"
      ],
      "metadata": {
        "colab": {
          "base_uri": "https://localhost:8080/",
          "height": 406
        },
        "id": "r2PJy9PQN_3J",
        "outputId": "31044560-fd72-43af-c283-99560e5fc124"
      },
      "execution_count": null,
      "outputs": [
        {
          "output_type": "display_data",
          "data": {
            "text/plain": [
              "<Figure size 640x480 with 1 Axes>"
            ],
            "image/png": "[encoded data removed]"
          },
          "metadata": {}
        }
      ]
    },
    {
      "cell_type": "code",
      "source": [
        "# from PIL import Image\n",
        "# im = Image.fromarray(image)\n",
        "# im = im.rotate(30, resample = Image.NEAREST, expand=True)\n",
        "\n",
        "# plt.axis('off')\n",
        "# plt.imshow(im)\n",
        "# plt.show()"
      ],
      "metadata": {
        "id": "Fx_5AFAVRAgL"
      },
      "execution_count": null,
      "outputs": []
    },
    {
      "cell_type": "code",
      "source": [
        "# from PIL import Image\n",
        "# import math\n",
        "\n",
        "# # 讀取圖像\n",
        "# # image = Image.open(\"image.jpg\")\n",
        "# image = Image.fromarray(image)\n",
        "\n",
        "# # 旋轉角度，逆時針為正\n",
        "# angle = -30\n",
        "\n",
        "# # 旋轉圖像\n",
        "# rotated_image = image.rotate(angle, expand=True)\n",
        "\n",
        "# # 計算旋轉後的圖像大小\n",
        "# width, height = rotated_image.size\n",
        "# rad_angle = math.radians(angle)\n",
        "# new_width = int(abs(width*math.cos(rad_angle))+abs(height*math.sin(rad_angle)))\n",
        "# new_height = int(abs(width*math.sin(rad_angle))+abs(height*math.cos(rad_angle)))\n",
        "\n",
        "# # 調整圖像大小以適應旋轉後的圖像\n",
        "# resized_image = rotated_image.resize((new_width, new_height), Image.ANTIALIAS)\n",
        "\n",
        "# # 顯示旋轉後的圖像\n",
        "# resized_image.show()\n"
      ],
      "metadata": {
        "id": "9sZdtpdc5y-m"
      },
      "execution_count": null,
      "outputs": []
    },
    {
      "cell_type": "markdown",
      "source": [
        "rotate v2"
      ],
      "metadata": {
        "id": "-X_jYc-TCjEj"
      }
    },
    {
      "cell_type": "code",
      "source": [
        "# 創建新圖像\n",
        "rotated_image = np.zeros((new_height, new_width, 3), dtype=np.uint8)\n",
        "\n",
        "# 計算旋轉後的每個像素的位置和顏色\n",
        "for i in range(new_height):\n",
        "    for j in range(new_width):\n",
        "        x = j - new_center[0]\n",
        "        y = i - new_center[1]\n",
        "        new_x = int(x * cosine - y * sine + center[0])\n",
        "        new_y = int(x * sine + y * cosine + center[1])\n",
        "        if 0 <= new_x < width and 0 <= new_y < height:\n",
        "            rotated_image[i, j] = image[new_y, new_x]\n",
        "\n",
        "# 顯示旋轉後的圖像\n",
        "plt.axis('off')\n",
        "plt.imshow(rotated_image)\n",
        "plt.show()\n",
        "rotated_image.shape\n"
      ],
      "metadata": {
        "colab": {
          "base_uri": "https://localhost:8080/",
          "height": 423
        },
        "id": "z5DnHEIMCi5E",
        "outputId": "c9d1895e-0b85-409f-e84d-4bc850aa6bac"
      },
      "execution_count": null,
      "outputs": [
        {
          "output_type": "display_data",
          "data": {
            "text/plain": [
              "<Figure size 640x480 with 1 Axes>"
            ],
            "image/png": "[encoded data removed]"
          },
          "metadata": {}
        },
        {
          "output_type": "execute_result",
          "data": {
            "text/plain": [
              "(34, 34, 3)"
            ]
          },
          "metadata": {},
          "execution_count": 21
        }
      ]
    }
  ]
}